{
  "nbformat": 4,
  "nbformat_minor": 0,
  "metadata": {
    "colab": {
      "provenance": [],
      "authorship_tag": "ABX9TyMQucSXGb07KN2CsriDZjo/",
      "include_colab_link": true
    },
    "kernelspec": {
      "name": "python3",
      "display_name": "Python 3"
    },
    "language_info": {
      "name": "python"
    }
  },
  "cells": [
    {
      "cell_type": "markdown",
      "metadata": {
        "id": "view-in-github",
        "colab_type": "text"
      },
      "source": [
        "<a href=\"https://colab.research.google.com/github/elilionel7/SortingAlgorithms/blob/main/SortingAlgorithm.ipynb\" target=\"_parent\"><img src=\"https://colab.research.google.com/assets/colab-badge.svg\" alt=\"Open In Colab\"/></a>"
      ]
    },
    {
      "cell_type": "markdown",
      "source": [
        "**Insertion Sort:**\n",
        "\n",
        "Best case time complexity O(n)\n",
        "\n",
        "Worst case time complexity O(n^2)\n",
        "\n",
        "**Notes:** Its is a good algorithm when the size of your array is small due to it worst case time complexity.\n"
      ],
      "metadata": {
        "id": "SNvMStf5n4Qa"
      }
    },
    {
      "cell_type": "code",
      "source": [
        "def insertsort(arr):\n",
        "  for i in range(1,len(arr)):\n",
        "    k = i-1\n",
        "    while k >= 0 and arr[k] > arr[k+1]: # this is to make sure that the k+1 is less than the kth, k-1, all the way to the first one.\n",
        "      cur = arr[k]\n",
        "      arr[k] = arr[k+1] # replacing kth with (k+1)the. I will need to save kth some where before I do that. Thats where the cur=arr[k] is needed\n",
        "      arr[k+1] = cur\n",
        "      k -= 1\n",
        "  return arr\n",
        "arr= [3,4,1,2,5]\n",
        "insertsort(arr)"
      ],
      "metadata": {
        "colab": {
          "base_uri": "https://localhost:8080/"
        },
        "id": "S0HzOTdan7Co",
        "outputId": "8524d463-c4f5-4ba1-95c8-bc635deb423b"
      },
      "execution_count": null,
      "outputs": [
        {
          "output_type": "execute_result",
          "data": {
            "text/plain": [
              "[1, 2, 3, 4, 5]"
            ]
          },
          "metadata": {},
          "execution_count": 1
        }
      ]
    },
    {
      "cell_type": "markdown",
      "source": [
        "**Merge Sort**"
      ],
      "metadata": {
        "id": "rh1d7YDhqcI_"
      }
    },
    {
      "cell_type": "code",
      "source": [
        "class Sorter:\n",
        "    def __init__(self, arr):\n",
        "        self.arr = arr\n",
        "\n",
        "    def merge(self, ln, mid, rn):\n",
        "        L = self.arr[ln : mid + 1]\n",
        "        R = self.arr[mid + 1 : rn + 1]\n",
        "        i, j, k = 0, 0, ln \n",
        "\n",
        "        while i < len(L) and j < len(R):\n",
        "            if L[i] < R[j]:\n",
        "                self.arr[k] = L[i]\n",
        "                i += 1\n",
        "            else:\n",
        "                self.arr[k] = R[j]\n",
        "                j += 1\n",
        "            k += 1\n",
        "\n",
        "        while i < len(L):\n",
        "            self.arr[k] = L[i]\n",
        "            i += 1\n",
        "            k += 1\n",
        "\n",
        "        while j < len(R):\n",
        "            self.arr[k] = R[j]\n",
        "            j += 1\n",
        "            k += 1\n",
        "\n",
        "    def mergeSort(self, ln, rn):\n",
        "        if rn - ln + 1 <= 1:\n",
        "            return self.arr\n",
        "        mid = (ln + rn)//2\n",
        "        self.mergeSort(ln, mid)\n",
        "        self.mergeSort(mid+1, rn)\n",
        "        self.merge(ln, mid, rn)\n",
        "\n",
        "        return self.arr\n",
        "\n",
        "arr = [2,1,5,3,5,7,3,1,9]\n",
        "sorter = Sorter(arr)\n",
        "print(sorter.mergeSort(0, len(sorter.arr) - 1))\n",
        "\n",
        "\n"
      ],
      "metadata": {
        "id": "TTu_4i-Kqjcp",
        "outputId": "bcd1705a-ec72-485e-e6c0-104ff2481d05",
        "colab": {
          "base_uri": "https://localhost:8080/"
        }
      },
      "execution_count": 5,
      "outputs": [
        {
          "output_type": "stream",
          "name": "stdout",
          "text": [
            "[1, 1, 2, 3, 3, 5, 5, 7, 9]\n"
          ]
        }
      ]
    },
    {
      "cell_type": "markdown",
      "source": [
        "**Bucket Sort:**\n"
      ],
      "metadata": {
        "id": "IKFQuUhkpGY9"
      }
    },
    {
      "cell_type": "code",
      "source": [
        "def BucketSort(arr):\n",
        "  bucket = [0]*4 #range of values in the arr are 0,1,2,3. which is four unique [0]*4 == [0,0,0,0]\n",
        "\n",
        "  for i in arr: \n",
        "    bucket[i] += 1 # taking frequencies of unique elements in arr eg if arr=[1,2,2,0,3,2,1,3,3,3] then bucket=[1,2,3,4] \n",
        "                    # note that the position in the bucket represents the unique elements in arr\n",
        "  print('bucket ', bucket, ' containing frequencies of sorted arr ')\n",
        "  k=0 #pointer to help update arr\n",
        "  for j in range(len(bucket)): # j = 0,1,2,3 are the elements in the array, techniquecally sorted, right\n",
        "    for _ in range(bucket[j]):         # helps to update j in arr the number of nums it appear\n",
        "      arr[k] = j\n",
        "      k += 1\n",
        "  return arr\n",
        "  #even though there is a nested for loop, I only have to traverse arr len(arr) times\n",
        "arr = [3,1,1,3,2,0,1,3,2,0,0,2,2,1,2,3,3,3]\n",
        "BucketSort(arr)"
      ],
      "metadata": {
        "id": "1oLhuLtgpQg5",
        "outputId": "a55d8039-7a07-4eff-c333-1ea79592532f",
        "colab": {
          "base_uri": "https://localhost:8080/"
        }
      },
      "execution_count": null,
      "outputs": [
        {
          "output_type": "stream",
          "name": "stdout",
          "text": [
            "bucket  [3, 4, 5, 6]  containing frequencies of sorted arr \n"
          ]
        },
        {
          "output_type": "execute_result",
          "data": {
            "text/plain": [
              "[0, 0, 0, 1, 1, 1, 1, 2, 2, 2, 2, 2, 3, 3, 3, 3, 3, 3]"
            ]
          },
          "metadata": {},
          "execution_count": 15
        }
      ]
    }
  ]
}