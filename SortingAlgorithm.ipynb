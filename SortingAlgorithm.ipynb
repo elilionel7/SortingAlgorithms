{
  "nbformat": 4,
  "nbformat_minor": 0,
  "metadata": {
    "colab": {
      "provenance": [],
      "authorship_tag": "ABX9TyNBk8UXA8JZHpREab0lv8i7",
      "include_colab_link": true
    },
    "kernelspec": {
      "name": "python3",
      "display_name": "Python 3"
    },
    "language_info": {
      "name": "python"
    }
  },
  "cells": [
    {
      "cell_type": "markdown",
      "metadata": {
        "id": "view-in-github",
        "colab_type": "text"
      },
      "source": [
        "<a href=\"https://colab.research.google.com/github/elilionel7/SortingAlgorithms/blob/main/SortingAlgorithm.ipynb\" target=\"_parent\"><img src=\"https://colab.research.google.com/assets/colab-badge.svg\" alt=\"Open In Colab\"/></a>"
      ]
    },
    {
      "cell_type": "markdown",
      "source": [
        "**Insertion Sort:**\n",
        "\n",
        "Best case time complexity O(n)\n",
        "\n",
        "Worst case time complexity O(n^2)\n",
        "\n",
        "**Notes:** Its is a good algorithm when the size of your array is small due to it worst case time complexity.\n"
      ],
      "metadata": {
        "id": "SNvMStf5n4Qa"
      }
    },
    {
      "cell_type": "code",
      "source": [
        "def insertsort(arr):\n",
        "  for i in range(1,len(arr)):\n",
        "    k = i-1\n",
        "    while k >= 0 and arr[k] > arr[k+1]: # this is to make sure that the k+1 is less than the kth, k-1, all the way to the first one.\n",
        "      cur = arr[k]\n",
        "      arr[k] = arr[k+1] # replacing kth with (k+1)the. I will need to save kth some where before I do that. Thats where the cur=arr[k] is needed\n",
        "      arr[k+1] = cur\n",
        "      k -= 1\n",
        "  return arr\n",
        "arr= [3,4,1,2,5]\n",
        "insertsort(arr)"
      ],
      "metadata": {
        "colab": {
          "base_uri": "https://localhost:8080/"
        },
        "id": "S0HzOTdan7Co",
        "outputId": "8524d463-c4f5-4ba1-95c8-bc635deb423b"
      },
      "execution_count": 1,
      "outputs": [
        {
          "output_type": "execute_result",
          "data": {
            "text/plain": [
              "[1, 2, 3, 4, 5]"
            ]
          },
          "metadata": {},
          "execution_count": 1
        }
      ]
    }
  ]
}